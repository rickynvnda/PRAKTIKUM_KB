{
 "cells": [
  {
   "cell_type": "markdown",
   "id": "42a14d5d",
   "metadata": {},
   "source": [
    "<h1>POSTTEST 7</h1>\n",
    "<h3>Ricky Novenda Putra</h3>\n",
    "<h3>2009106073</h3>\n",
    "\n",
    "<h4>Kita Install dulu Library yang dibutuhkan</h4>"
   ]
  },
  {
   "cell_type": "code",
   "execution_count": 23,
   "id": "8dd337ad",
   "metadata": {},
   "outputs": [],
   "source": [
    "import tensorflow as tf\n",
    "import numpy as np"
   ]
  },
  {
   "cell_type": "markdown",
   "id": "664c878e",
   "metadata": {},
   "source": [
    "<h4>Membuat Random Tensor Shape 5.5</h4>"
   ]
  },
  {
   "cell_type": "code",
   "execution_count": 24,
   "id": "794d3e93",
   "metadata": {},
   "outputs": [
    {
     "data": {
      "text/plain": [
       "array([[-0.3744468 ,  0.61860144, -0.6192134 ,  0.9124507 ,  0.6950061 ],\n",
       "       [-0.17951003, -0.37561563, -0.1350087 ,  0.6676718 ,  0.4242158 ],\n",
       "       [-0.31347093, -0.27241856,  1.1854254 ,  0.34320396,  1.4505777 ],\n",
       "       [-0.29796734, -1.4172324 ,  0.6069386 , -1.4060947 , -0.8780423 ],\n",
       "       [-0.4037651 ,  0.37089893, -1.0725715 , -0.7477049 , -1.1893758 ]],\n",
       "      dtype=float32)"
      ]
     },
     "execution_count": 24,
     "metadata": {},
     "output_type": "execute_result"
    }
   ],
   "source": [
    "dataset_random = tf.random.normal([5, 5], mean=0, stddev=1, seed=1).numpy()\n",
    "dataset_random"
   ]
  },
  {
   "cell_type": "markdown",
   "id": "32398672",
   "metadata": {},
   "source": [
    "<h4>Membuat Variabel Prima Tensor Shape 5.5</h4>"
   ]
  },
  {
   "cell_type": "code",
   "execution_count": 25,
   "id": "2d472622",
   "metadata": {},
   "outputs": [
    {
     "data": {
      "text/plain": [
       "<tf.Tensor: shape=(5, 5), dtype=float32, numpy=\n",
       "array([[  2.,   3.,   5.,   7.,  11.],\n",
       "       [ 13.,  17.,  19.,  23.,  29.],\n",
       "       [ 31.,  37.,  41.,  43.,  47.],\n",
       "       [ 53.,  59.,  61.,  71.,  73.],\n",
       "       [ 79.,  83.,  89.,  97., 101.]], dtype=float32)>"
      ]
     },
     "execution_count": 25,
     "metadata": {},
     "output_type": "execute_result"
    }
   ],
   "source": [
    "dataset_prima = tf.constant([2, 3, 5, 7, 11, 13, 17, 19, 23, 29, 31, 37, 41, 43, 47, 53, 59, 61, 71, 73, 79, 83, 89, 97, 101], shape=[5, 5], dtype=tf.float32)\n",
    "dataset_prima"
   ]
  },
  {
   "cell_type": "markdown",
   "id": "62c2ae26",
   "metadata": {},
   "source": [
    "<h4>Membuat Aritmatika Pertambahan / (add)</h4>"
   ]
  },
  {
   "cell_type": "code",
   "execution_count": 26,
   "id": "d14cac55",
   "metadata": {},
   "outputs": [
    {
     "name": "stdout",
     "output_type": "stream",
     "text": [
      "Hasil Add Pertambahan = [[ 1.6255531  3.6186013  4.3807864  7.912451  11.695006 ]\n",
      " [12.82049   16.624384  18.864992  23.667671  29.424215 ]\n",
      " [30.68653   36.72758   42.185425  43.343204  48.450577 ]\n",
      " [52.702034  57.582767  61.606937  69.5939    72.121956 ]\n",
      " [78.59624   83.370895  87.92743   96.2523    99.81062  ]]\n"
     ]
    }
   ],
   "source": [
    "print(\"Hasil Add Pertambahan =\",tf.add(dataset_random,dataset_prima).numpy())"
   ]
  },
  {
   "cell_type": "markdown",
   "id": "12f4b506",
   "metadata": {},
   "source": [
    "<h4>Membuat Aritmatika Pengurangan / (subtract)</h4>"
   ]
  },
  {
   "cell_type": "code",
   "execution_count": 27,
   "id": "09cccae6",
   "metadata": {},
   "outputs": [
    {
     "name": "stdout",
     "output_type": "stream",
     "text": [
      "Hasil Subtract Pengurangan = [[  -2.3744469   -2.3813987   -5.6192136   -6.087549   -10.304994 ]\n",
      " [ -13.17951    -17.375616   -19.135008   -22.332329   -28.575785 ]\n",
      " [ -31.31347    -37.27242    -39.814575   -42.656796   -45.549423 ]\n",
      " [ -53.297966   -60.417233   -60.393063   -72.4061     -73.878044 ]\n",
      " [ -79.40376    -82.629105   -90.07257    -97.7477    -102.18938  ]]\n"
     ]
    }
   ],
   "source": [
    "print(\"Hasil Subtract Pengurangan =\",tf.subtract(dataset_random,dataset_prima).numpy())"
   ]
  },
  {
   "cell_type": "markdown",
   "id": "f0fa42e5",
   "metadata": {},
   "source": [
    "<h4>Membuat Aritmatika Perkalian / (multiply)</h4>"
   ]
  },
  {
   "cell_type": "code",
   "execution_count": 28,
   "id": "18da3d31",
   "metadata": {},
   "outputs": [
    {
     "name": "stdout",
     "output_type": "stream",
     "text": [
      "Hasil Multiply Perkalian = [[  -0.7488936    1.8558043   -3.096067     6.3871546    7.6450667]\n",
      " [  -2.3336303   -6.3854656   -2.565165    15.356451    12.302258 ]\n",
      " [  -9.717599   -10.079487    48.60244     14.757771    68.177155 ]\n",
      " [ -15.79227    -83.616714    37.023254   -99.83272    -64.097084 ]\n",
      " [ -31.897444    30.78461    -95.45886    -72.527374  -120.12695  ]]\n"
     ]
    }
   ],
   "source": [
    "print(\"Hasil Multiply Perkalian =\",tf.multiply(dataset_random,dataset_prima).numpy())\n"
   ]
  },
  {
   "cell_type": "markdown",
   "id": "e8c98518",
   "metadata": {},
   "source": [
    "<h4>Membuat Aritmatika Pembagian / (divide)</h4>"
   ]
  },
  {
   "cell_type": "code",
   "execution_count": 29,
   "id": "00bd8c30",
   "metadata": {},
   "outputs": [
    {
     "name": "stdout",
     "output_type": "stream",
     "text": [
      "Hasil Divide Pembagian = [[-0.1872234   0.20620048 -0.12384268  0.1303501   0.06318237]\n",
      " [-0.01380846 -0.02209504 -0.00710572  0.02902921  0.01462813]\n",
      " [-0.01011197 -0.00736266  0.02891281  0.00798149  0.03086336]\n",
      " [-0.00562203 -0.02402089  0.00994981 -0.01980415 -0.01202798]\n",
      " [-0.00511095  0.00446866 -0.01205137 -0.0077083  -0.011776  ]]\n"
     ]
    }
   ],
   "source": [
    "print(\"Hasil Divide Pembagian =\",tf.divide (dataset_random,dataset_prima).numpy())"
   ]
  },
  {
   "cell_type": "markdown",
   "id": "b7ab87ef",
   "metadata": {},
   "source": [
    "<h4>Membuat Aritmatika Logaritma / (math.log)</h4>"
   ]
  },
  {
   "cell_type": "code",
   "execution_count": 30,
   "id": "3426f9ff",
   "metadata": {},
   "outputs": [
    {
     "name": "stdout",
     "output_type": "stream",
     "text": [
      "Hasil Logaritma math.log = [[        nan -0.4802941          nan -0.09162126 -0.36383468]\n",
      " [        nan         nan         nan -0.40395853 -0.857513  ]\n",
      " [        nan         nan  0.17010169 -1.0694304   0.37196195]\n",
      " [        nan         nan -0.49932766         nan         nan]\n",
      " [        nan -0.9918257          nan         nan         nan]]\n"
     ]
    }
   ],
   "source": [
    "print(\"Hasil Logaritma math.log =\", tf.math.log (dataset_random,dataset_prima).numpy())"
   ]
  },
  {
   "cell_type": "markdown",
   "id": "c45b1010",
   "metadata": {},
   "source": [
    "<h4>Membuat Aritmatika Pangkat / (pow)</h4>"
   ]
  },
  {
   "cell_type": "code",
   "execution_count": 31,
   "id": "27967cde",
   "metadata": {},
   "outputs": [
    {
     "name": "stdout",
     "output_type": "stream",
     "text": [
      "Hasil Pow Pangkat= [[ 1.40210420e-01  2.36718819e-01 -9.10336077e-02  5.26581705e-01\n",
      "   1.82757247e-02]\n",
      " [-2.00980191e-10 -5.89714872e-08 -2.99828488e-17  9.22464751e-05\n",
      "   1.58495942e-11]\n",
      " [-2.41054618e-16 -1.26986502e-21  1.06866943e+03  1.06843616e-20\n",
      "   3.91225680e+07]\n",
      " [-1.35188438e-28 -8.61039680e+08  5.91330506e-14 -3.22874614e+10\n",
      "  -7.52707638e-05]\n",
      " [-7.65904218e-32  1.77097885e-36 -5.10431061e+02 -5.64720146e-13\n",
      "  -4.04787720e+07]]\n"
     ]
    }
   ],
   "source": [
    "print(\"Hasil Pow Pangkat=\", tf.pow(dataset_random,dataset_prima).numpy())"
   ]
  },
  {
   "cell_type": "markdown",
   "id": "e73063ae",
   "metadata": {},
   "source": [
    "<h4>Membuat Nilai Maksimal Random Tensor</h4>"
   ]
  },
  {
   "cell_type": "code",
   "execution_count": 32,
   "id": "554febdc",
   "metadata": {},
   "outputs": [
    {
     "name": "stdout",
     "output_type": "stream",
     "text": [
      "Nilai Max = [1 0 2 0 2]\n"
     ]
    }
   ],
   "source": [
    "print(\"Nilai Max =\", tf.argmax(dataset_random, axis=0).numpy())"
   ]
  },
  {
   "cell_type": "markdown",
   "id": "fcd263db",
   "metadata": {},
   "source": [
    "<h4>Membuat Nilai Minimal Random Tensor</h4>"
   ]
  },
  {
   "cell_type": "code",
   "execution_count": 33,
   "id": "5271bd4f",
   "metadata": {},
   "outputs": [
    {
     "name": "stdout",
     "output_type": "stream",
     "text": [
      "Nilai Min = [4 3 4 3 4]\n"
     ]
    }
   ],
   "source": [
    "print(\"Nilai Min =\",tf.argmin(dataset_random, axis=0).numpy())"
   ]
  },
  {
   "cell_type": "markdown",
   "id": "943edd17",
   "metadata": {},
   "source": [
    "<h4>Membuat Penggabungan Variable</h4>"
   ]
  },
  {
   "cell_type": "code",
   "execution_count": 34,
   "id": "7c2c81e1",
   "metadata": {},
   "outputs": [
    {
     "name": "stdout",
     "output_type": "stream",
     "text": [
      "Size Original : (5, 5) (5, 5)\n",
      "Size Concatenated : (10, 5)\n"
     ]
    }
   ],
   "source": [
    "dataset_random = tf.random.normal([5,5], mean=0, stddev=1, seed=1)\n",
    "dataset_prima = tf.constant([2, 3, 5, 7, 11, 13, 17, 19, 23, 29, 31, 37, 41, 43, 47, 53, 59, 61, 71, 73, 79, 83, 89, 97, 101], shape=[5, 5], dtype=tf.float32)\n",
    "print(\"Size Original :\",dataset_random.shape,dataset_prima.shape)\n",
    "concated_tensor = tf.concat([dataset_random,dataset_prima],axis=0)\n",
    "print(\"Size Concatenated :\",concated_tensor.shape)"
   ]
  },
  {
   "cell_type": "markdown",
   "id": "7e89bb90",
   "metadata": {},
   "source": [
    "<h4>Membuat Desscending</h4>"
   ]
  },
  {
   "cell_type": "code",
   "execution_count": 36,
   "id": "9210ce0e",
   "metadata": {},
   "outputs": [
    {
     "name": "stdout",
     "output_type": "stream",
     "text": [
      "Existing Prime Tensor : [[-0.8559895   0.93666625  0.55710965  0.07463042 -1.6017824 ]\n",
      " [ 0.8832085  -1.6398144   2.1169775   0.48650688  0.8811853 ]\n",
      " [ 1.1792054   0.31829008 -0.30523288 -0.5744346   1.6413461 ]\n",
      " [ 0.18569663 -1.4471521   0.32309735 -0.1825322  -1.2932976 ]\n",
      " [-1.113902   -1.0944788   0.01676212  0.42491904  0.93900865]]\n",
      "Random Tensor Descending Sorted : [[ 0.93666625  0.55710965  0.07463042 -0.8559895  -1.6017824 ]\n",
      " [ 2.1169775   0.8832085   0.8811853   0.48650688 -1.6398144 ]\n",
      " [ 1.6413461   1.1792054   0.31829008 -0.30523288 -0.5744346 ]\n",
      " [ 0.32309735  0.18569663 -0.1825322  -1.2932976  -1.4471521 ]\n",
      " [ 0.93900865  0.42491904  0.01676212 -1.0944788  -1.113902  ]]\n",
      "Prime Tensor Descending Sorted: [[ 11.   7.   5.   3.   2.]\n",
      " [ 29.  23.  19.  17.  13.]\n",
      " [ 47.  43.  41.  37.  31.]\n",
      " [ 73.  71.  61.  59.  53.]\n",
      " [101.  97.  89.  83.  79.]]\n"
     ]
    }
   ],
   "source": [
    "print(\"Existing Prime Tensor :\",dataset_random.numpy())\n",
    "sorted_random = tf.sort(dataset_random, direction = \"DESCENDING\")\n",
    "print(\"Random Tensor Descending Sorted :\",sorted_random.numpy())\n",
    "sorted_prime = tf.sort(dataset_prima, direction = \"DESCENDING\")\n",
    "print(\"Prime Tensor Descending Sorted:\",sorted_prime.numpy())"
   ]
  },
  {
   "cell_type": "code",
   "execution_count": null,
   "id": "8066d6c4",
   "metadata": {},
   "outputs": [],
   "source": []
  }
 ],
 "metadata": {
  "kernelspec": {
   "display_name": "Python 3 (ipykernel)",
   "language": "python",
   "name": "python3"
  },
  "language_info": {
   "codemirror_mode": {
    "name": "ipython",
    "version": 3
   },
   "file_extension": ".py",
   "mimetype": "text/x-python",
   "name": "python",
   "nbconvert_exporter": "python",
   "pygments_lexer": "ipython3",
   "version": "3.10.7"
  }
 },
 "nbformat": 4,
 "nbformat_minor": 5
}
