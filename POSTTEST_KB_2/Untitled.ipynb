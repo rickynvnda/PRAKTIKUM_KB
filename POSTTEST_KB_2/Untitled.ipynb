{
 "cells": [
  {
   "cell_type": "code",
   "execution_count": 25,
   "id": "c429e02d",
   "metadata": {},
   "outputs": [],
   "source": [
    "import pandas as pd"
   ]
  },
  {
   "cell_type": "code",
   "execution_count": 26,
   "id": "a9ebdbfe",
   "metadata": {},
   "outputs": [],
   "source": [
    "df = pd.read_csv(\"shopee_ulasan_label7.csv\")"
   ]
  },
  {
   "cell_type": "code",
   "execution_count": 27,
   "id": "2ec9dc58",
   "metadata": {},
   "outputs": [
    {
     "data": {
      "text/html": [
       "<div>\n",
       "<style scoped>\n",
       "    .dataframe tbody tr th:only-of-type {\n",
       "        vertical-align: middle;\n",
       "    }\n",
       "\n",
       "    .dataframe tbody tr th {\n",
       "        vertical-align: top;\n",
       "    }\n",
       "\n",
       "    .dataframe thead th {\n",
       "        text-align: right;\n",
       "    }\n",
       "</style>\n",
       "<table border=\"1\" class=\"dataframe\">\n",
       "  <thead>\n",
       "    <tr style=\"text-align: right;\">\n",
       "      <th></th>\n",
       "      <th>user</th>\n",
       "      <th>ulasan</th>\n",
       "      <th>rating</th>\n",
       "      <th>label</th>\n",
       "      <th>tanggal</th>\n",
       "    </tr>\n",
       "  </thead>\n",
       "  <tbody>\n",
       "    <tr>\n",
       "      <th>0</th>\n",
       "      <td>Juwairiah Juwairiah</td>\n",
       "      <td>Aplikasi shopee aku kok gak bisa gunain gratis...</td>\n",
       "      <td>1</td>\n",
       "      <td>negatif</td>\n",
       "      <td>06 Maret 2021</td>\n",
       "    </tr>\n",
       "    <tr>\n",
       "      <th>1</th>\n",
       "      <td>Sabyan Keisha</td>\n",
       "      <td>Menyebalkan vocer penguna baru tidak bisa di p...</td>\n",
       "      <td>1</td>\n",
       "      <td>negatif</td>\n",
       "      <td>12 Maret 2021</td>\n",
       "    </tr>\n",
       "    <tr>\n",
       "      <th>2</th>\n",
       "      <td>Teno Tee</td>\n",
       "      <td>Saya sebagai penjual kecewa, penarikan saldo m...</td>\n",
       "      <td>1</td>\n",
       "      <td>negatif</td>\n",
       "      <td>27 Februari 2021</td>\n",
       "    </tr>\n",
       "    <tr>\n",
       "      <th>3</th>\n",
       "      <td>Nana nae</td>\n",
       "      <td>Aplukasi apa sih ini disuruh buat nama uda gue...</td>\n",
       "      <td>1</td>\n",
       "      <td>negatif</td>\n",
       "      <td>03 Maret 2021</td>\n",
       "    </tr>\n",
       "    <tr>\n",
       "      <th>4</th>\n",
       "      <td>Nurul Hamidah</td>\n",
       "      <td>Makin kesini Shoppe makin gak jelas. Apaan kab...</td>\n",
       "      <td>1</td>\n",
       "      <td>negatif</td>\n",
       "      <td>14 Maret 2021</td>\n",
       "    </tr>\n",
       "    <tr>\n",
       "      <th>...</th>\n",
       "      <td>...</td>\n",
       "      <td>...</td>\n",
       "      <td>...</td>\n",
       "      <td>...</td>\n",
       "      <td>...</td>\n",
       "    </tr>\n",
       "    <tr>\n",
       "      <th>2932</th>\n",
       "      <td>Ameliatus Sholihah</td>\n",
       "      <td>Sangat nyaman untuk berbelanja di masa pandemi...</td>\n",
       "      <td>5</td>\n",
       "      <td>positif</td>\n",
       "      <td>02 Maret 2021</td>\n",
       "    </tr>\n",
       "    <tr>\n",
       "      <th>2933</th>\n",
       "      <td>Dwipa Aulia</td>\n",
       "      <td>Aplikasi ini sangat burik tapi sangat bagus se...</td>\n",
       "      <td>5</td>\n",
       "      <td>positif</td>\n",
       "      <td>15 Maret 2021</td>\n",
       "    </tr>\n",
       "    <tr>\n",
       "      <th>2934</th>\n",
       "      <td>`uci sefira</td>\n",
       "      <td>shopee bagus banget, tapi skrng ga ada gratong...</td>\n",
       "      <td>5</td>\n",
       "      <td>positif</td>\n",
       "      <td>03 Maret 2021</td>\n",
       "    </tr>\n",
       "    <tr>\n",
       "      <th>2935</th>\n",
       "      <td>Irvani Juita</td>\n",
       "      <td>aplikasi jelek!!!!!!!!!!!!!!!!!!!!!!!!!!!!!!!!...</td>\n",
       "      <td>5</td>\n",
       "      <td>positif</td>\n",
       "      <td>22 Januari 2021</td>\n",
       "    </tr>\n",
       "    <tr>\n",
       "      <th>2936</th>\n",
       "      <td>Pengguna Google</td>\n",
       "      <td>Tambah lagi jadi bintang 5 karna vocer gratis ...</td>\n",
       "      <td>5</td>\n",
       "      <td>positif</td>\n",
       "      <td>07 Februari 2021</td>\n",
       "    </tr>\n",
       "  </tbody>\n",
       "</table>\n",
       "<p>2937 rows × 5 columns</p>\n",
       "</div>"
      ],
      "text/plain": [
       "                     user                                             ulasan  \\\n",
       "0     Juwairiah Juwairiah  Aplikasi shopee aku kok gak bisa gunain gratis...   \n",
       "1           Sabyan Keisha  Menyebalkan vocer penguna baru tidak bisa di p...   \n",
       "2                Teno Tee  Saya sebagai penjual kecewa, penarikan saldo m...   \n",
       "3                Nana nae  Aplukasi apa sih ini disuruh buat nama uda gue...   \n",
       "4           Nurul Hamidah  Makin kesini Shoppe makin gak jelas. Apaan kab...   \n",
       "...                   ...                                                ...   \n",
       "2932   Ameliatus Sholihah  Sangat nyaman untuk berbelanja di masa pandemi...   \n",
       "2933          Dwipa Aulia  Aplikasi ini sangat burik tapi sangat bagus se...   \n",
       "2934          `uci sefira  shopee bagus banget, tapi skrng ga ada gratong...   \n",
       "2935         Irvani Juita  aplikasi jelek!!!!!!!!!!!!!!!!!!!!!!!!!!!!!!!!...   \n",
       "2936      Pengguna Google  Tambah lagi jadi bintang 5 karna vocer gratis ...   \n",
       "\n",
       "      rating    label           tanggal  \n",
       "0          1  negatif     06 Maret 2021  \n",
       "1          1  negatif     12 Maret 2021  \n",
       "2          1  negatif  27 Februari 2021  \n",
       "3          1  negatif     03 Maret 2021  \n",
       "4          1  negatif     14 Maret 2021  \n",
       "...      ...      ...               ...  \n",
       "2932       5  positif     02 Maret 2021  \n",
       "2933       5  positif     15 Maret 2021  \n",
       "2934       5  positif     03 Maret 2021  \n",
       "2935       5  positif   22 Januari 2021  \n",
       "2936       5  positif  07 Februari 2021  \n",
       "\n",
       "[2937 rows x 5 columns]"
      ]
     },
     "execution_count": 27,
     "metadata": {},
     "output_type": "execute_result"
    }
   ],
   "source": [
    "df"
   ]
  },
  {
   "cell_type": "code",
   "execution_count": 28,
   "id": "22c7367a",
   "metadata": {},
   "outputs": [
    {
     "data": {
      "text/plain": [
       "user       object\n",
       "ulasan     object\n",
       "rating      int64\n",
       "label      object\n",
       "tanggal    object\n",
       "dtype: object"
      ]
     },
     "execution_count": 28,
     "metadata": {},
     "output_type": "execute_result"
    }
   ],
   "source": [
    "df.dtypes"
   ]
  },
  {
   "cell_type": "code",
   "execution_count": 29,
   "id": "d9602711",
   "metadata": {},
   "outputs": [
    {
     "data": {
      "text/plain": [
       "Jumlah Total Record                                                 2937\n",
       "Nama Attribute         Index(['user', 'ulasan', 'rating', 'label', 't...\n",
       "Jumlah Objek                                                           4\n",
       "Jumlah Angka                                                           1\n",
       "Jumlah NULL                                                            0\n",
       "dtype: object"
      ]
     },
     "execution_count": 29,
     "metadata": {},
     "output_type": "execute_result"
    }
   ],
   "source": [
    "totalRecord = len(df)\n",
    "namaAttribute = df.columns\n",
    "jumlahObjek = len(df.select_dtypes(include=['object']).columns)\n",
    "jumlahAngka = len(df.select_dtypes(include=['int64']).columns)\n",
    "jumlahNULL = len(df.columns[df.isna().sum() > 0])\n",
    "\n",
    "mydictionary = {\n",
    "    \"Jumlah Total Record\": totalRecord,     \n",
    "    \"Nama Attribute\": namaAttribute,        \n",
    "    \"Jumlah Objek\": jumlahObjek,            \n",
    "    \"Jumlah Angka\": jumlahAngka,            \n",
    "    \"Jumlah NULL\": jumlahNULL,         \n",
    "}\n",
    "\n",
    "pd.Series(mydictionary)"
   ]
  },
  {
   "cell_type": "code",
   "execution_count": 30,
   "id": "59c4349c",
   "metadata": {},
   "outputs": [
    {
     "data": {
      "text/plain": [
       "rating    3.582567\n",
       "dtype: float64"
      ]
     },
     "execution_count": 30,
     "metadata": {},
     "output_type": "execute_result"
    }
   ],
   "source": [
    "df.select_dtypes(include=['int64']).mean()"
   ]
  },
  {
   "cell_type": "code",
   "execution_count": 33,
   "id": "f3fabe47",
   "metadata": {},
   "outputs": [
    {
     "data": {
      "text/plain": [
       "rating    1.786857\n",
       "dtype: float64"
      ]
     },
     "execution_count": 33,
     "metadata": {},
     "output_type": "execute_result"
    }
   ],
   "source": [
    "df.select_dtypes(include=['int64']).std()"
   ]
  },
  {
   "cell_type": "code",
   "execution_count": 32,
   "id": "39d8fe04",
   "metadata": {},
   "outputs": [
    {
     "data": {
      "text/plain": [
       "rating    1\n",
       "dtype: int64"
      ]
     },
     "execution_count": 32,
     "metadata": {},
     "output_type": "execute_result"
    }
   ],
   "source": [
    "df.select_dtypes(include=['int64']).min()"
   ]
  },
  {
   "cell_type": "code",
   "execution_count": 34,
   "id": "0255dd97",
   "metadata": {},
   "outputs": [
    {
     "data": {
      "text/plain": [
       "rating    5\n",
       "dtype: int64"
      ]
     },
     "execution_count": 34,
     "metadata": {},
     "output_type": "execute_result"
    }
   ],
   "source": [
    "df.select_dtypes(include=['int64']).max()"
   ]
  },
  {
   "cell_type": "code",
   "execution_count": 35,
   "id": "faec0df1",
   "metadata": {},
   "outputs": [
    {
     "data": {
      "text/html": [
       "<div>\n",
       "<style scoped>\n",
       "    .dataframe tbody tr th:only-of-type {\n",
       "        vertical-align: middle;\n",
       "    }\n",
       "\n",
       "    .dataframe tbody tr th {\n",
       "        vertical-align: top;\n",
       "    }\n",
       "\n",
       "    .dataframe thead th {\n",
       "        text-align: right;\n",
       "    }\n",
       "</style>\n",
       "<table border=\"1\" class=\"dataframe\">\n",
       "  <thead>\n",
       "    <tr style=\"text-align: right;\">\n",
       "      <th></th>\n",
       "      <th>rating</th>\n",
       "    </tr>\n",
       "  </thead>\n",
       "  <tbody>\n",
       "    <tr>\n",
       "      <th>0.25</th>\n",
       "      <td>1.0</td>\n",
       "    </tr>\n",
       "    <tr>\n",
       "      <th>0.50</th>\n",
       "      <td>5.0</td>\n",
       "    </tr>\n",
       "    <tr>\n",
       "      <th>0.75</th>\n",
       "      <td>5.0</td>\n",
       "    </tr>\n",
       "  </tbody>\n",
       "</table>\n",
       "</div>"
      ],
      "text/plain": [
       "      rating\n",
       "0.25     1.0\n",
       "0.50     5.0\n",
       "0.75     5.0"
      ]
     },
     "execution_count": 35,
     "metadata": {},
     "output_type": "execute_result"
    }
   ],
   "source": [
    "df.select_dtypes(include=['int64']).quantile([0.25,0.5,0.75])"
   ]
  },
  {
   "cell_type": "code",
   "execution_count": 36,
   "id": "eec95eea",
   "metadata": {
    "scrolled": true
   },
   "outputs": [
    {
     "data": {
      "text/html": [
       "<div>\n",
       "<style scoped>\n",
       "    .dataframe tbody tr th:only-of-type {\n",
       "        vertical-align: middle;\n",
       "    }\n",
       "\n",
       "    .dataframe tbody tr th {\n",
       "        vertical-align: top;\n",
       "    }\n",
       "\n",
       "    .dataframe thead th {\n",
       "        text-align: right;\n",
       "    }\n",
       "</style>\n",
       "<table border=\"1\" class=\"dataframe\">\n",
       "  <thead>\n",
       "    <tr style=\"text-align: right;\">\n",
       "      <th></th>\n",
       "      <th>rating</th>\n",
       "    </tr>\n",
       "  </thead>\n",
       "  <tbody>\n",
       "    <tr>\n",
       "      <th>count</th>\n",
       "      <td>2937.000000</td>\n",
       "    </tr>\n",
       "    <tr>\n",
       "      <th>mean</th>\n",
       "      <td>3.582567</td>\n",
       "    </tr>\n",
       "    <tr>\n",
       "      <th>std</th>\n",
       "      <td>1.786857</td>\n",
       "    </tr>\n",
       "    <tr>\n",
       "      <th>min</th>\n",
       "      <td>1.000000</td>\n",
       "    </tr>\n",
       "    <tr>\n",
       "      <th>25%</th>\n",
       "      <td>1.000000</td>\n",
       "    </tr>\n",
       "    <tr>\n",
       "      <th>50%</th>\n",
       "      <td>5.000000</td>\n",
       "    </tr>\n",
       "    <tr>\n",
       "      <th>75%</th>\n",
       "      <td>5.000000</td>\n",
       "    </tr>\n",
       "    <tr>\n",
       "      <th>max</th>\n",
       "      <td>5.000000</td>\n",
       "    </tr>\n",
       "  </tbody>\n",
       "</table>\n",
       "</div>"
      ],
      "text/plain": [
       "            rating\n",
       "count  2937.000000\n",
       "mean      3.582567\n",
       "std       1.786857\n",
       "min       1.000000\n",
       "25%       1.000000\n",
       "50%       5.000000\n",
       "75%       5.000000\n",
       "max       5.000000"
      ]
     },
     "execution_count": 36,
     "metadata": {},
     "output_type": "execute_result"
    }
   ],
   "source": [
    "df.describe()"
   ]
  },
  {
   "cell_type": "code",
   "execution_count": 37,
   "id": "187c6beb",
   "metadata": {},
   "outputs": [
    {
     "data": {
      "text/html": [
       "<div>\n",
       "<style scoped>\n",
       "    .dataframe tbody tr th:only-of-type {\n",
       "        vertical-align: middle;\n",
       "    }\n",
       "\n",
       "    .dataframe tbody tr th {\n",
       "        vertical-align: top;\n",
       "    }\n",
       "\n",
       "    .dataframe thead th {\n",
       "        text-align: right;\n",
       "    }\n",
       "</style>\n",
       "<table border=\"1\" class=\"dataframe\">\n",
       "  <thead>\n",
       "    <tr style=\"text-align: right;\">\n",
       "      <th></th>\n",
       "      <th>rating</th>\n",
       "    </tr>\n",
       "  </thead>\n",
       "  <tbody>\n",
       "    <tr>\n",
       "      <th>rating</th>\n",
       "      <td>1.0</td>\n",
       "    </tr>\n",
       "  </tbody>\n",
       "</table>\n",
       "</div>"
      ],
      "text/plain": [
       "        rating\n",
       "rating     1.0"
      ]
     },
     "execution_count": 37,
     "metadata": {},
     "output_type": "execute_result"
    }
   ],
   "source": [
    "df.select_dtypes(include=['int64']).corr()"
   ]
  },
  {
   "cell_type": "code",
   "execution_count": 38,
   "id": "32e1afb7",
   "metadata": {},
   "outputs": [
    {
     "data": {
      "text/plain": [
       "dtype('float64')"
      ]
     },
     "execution_count": 38,
     "metadata": {},
     "output_type": "execute_result"
    }
   ],
   "source": [
    "df[\"rating\"] = df[\"rating\"].astype('float64', errors='ignore')\n",
    "df[\"rating\"].dtypes"
   ]
  },
  {
   "cell_type": "code",
   "execution_count": 39,
   "id": "eb316a5a",
   "metadata": {},
   "outputs": [],
   "source": [
    "df[\"rating\"] = df[\"rating\"].astype('int64', errors='ignore')"
   ]
  },
  {
   "cell_type": "code",
   "execution_count": 40,
   "id": "59905455",
   "metadata": {},
   "outputs": [
    {
     "data": {
      "text/plain": [
       "0      1.000\n",
       "1      1.000\n",
       "2      1.000\n",
       "3      1.000\n",
       "4      1.000\n",
       "        ... \n",
       "2932   5.000\n",
       "2933   5.000\n",
       "2934   5.000\n",
       "2935   5.000\n",
       "2936   5.000\n",
       "Name: rating, Length: 2937, dtype: float64"
      ]
     },
     "execution_count": 40,
     "metadata": {},
     "output_type": "execute_result"
    }
   ],
   "source": [
    "pd.options.display.float_format = '{:.3f}'.format\n",
    "df.rating.astype('float64')"
   ]
  },
  {
   "cell_type": "code",
   "execution_count": 41,
   "id": "83f54349",
   "metadata": {},
   "outputs": [
    {
     "data": {
      "text/html": [
       "<div>\n",
       "<style scoped>\n",
       "    .dataframe tbody tr th:only-of-type {\n",
       "        vertical-align: middle;\n",
       "    }\n",
       "\n",
       "    .dataframe tbody tr th {\n",
       "        vertical-align: top;\n",
       "    }\n",
       "\n",
       "    .dataframe thead th {\n",
       "        text-align: right;\n",
       "    }\n",
       "</style>\n",
       "<table border=\"1\" class=\"dataframe\">\n",
       "  <thead>\n",
       "    <tr style=\"text-align: right;\">\n",
       "      <th></th>\n",
       "      <th>rating</th>\n",
       "    </tr>\n",
       "  </thead>\n",
       "  <tbody>\n",
       "    <tr>\n",
       "      <th>0</th>\n",
       "      <td>1</td>\n",
       "    </tr>\n",
       "    <tr>\n",
       "      <th>1</th>\n",
       "      <td>1</td>\n",
       "    </tr>\n",
       "    <tr>\n",
       "      <th>2</th>\n",
       "      <td>1</td>\n",
       "    </tr>\n",
       "    <tr>\n",
       "      <th>3</th>\n",
       "      <td>1</td>\n",
       "    </tr>\n",
       "    <tr>\n",
       "      <th>4</th>\n",
       "      <td>1</td>\n",
       "    </tr>\n",
       "    <tr>\n",
       "      <th>5</th>\n",
       "      <td>1</td>\n",
       "    </tr>\n",
       "    <tr>\n",
       "      <th>6</th>\n",
       "      <td>1</td>\n",
       "    </tr>\n",
       "    <tr>\n",
       "      <th>7</th>\n",
       "      <td>1</td>\n",
       "    </tr>\n",
       "    <tr>\n",
       "      <th>8</th>\n",
       "      <td>1</td>\n",
       "    </tr>\n",
       "    <tr>\n",
       "      <th>9</th>\n",
       "      <td>1</td>\n",
       "    </tr>\n",
       "  </tbody>\n",
       "</table>\n",
       "</div>"
      ],
      "text/plain": [
       "   rating\n",
       "0       1\n",
       "1       1\n",
       "2       1\n",
       "3       1\n",
       "4       1\n",
       "5       1\n",
       "6       1\n",
       "7       1\n",
       "8       1\n",
       "9       1"
      ]
     },
     "execution_count": 41,
     "metadata": {},
     "output_type": "execute_result"
    }
   ],
   "source": [
    "df.select_dtypes(include=['int64']).head(10)"
   ]
  },
  {
   "cell_type": "code",
   "execution_count": 44,
   "id": "223c9533",
   "metadata": {},
   "outputs": [],
   "source": [
    "df.select_dtypes(include=['int64']).to_csv(\"attribut_bertipe_angka.csv\", index=False)"
   ]
  },
  {
   "cell_type": "code",
   "execution_count": null,
   "id": "ce9d87e5",
   "metadata": {},
   "outputs": [],
   "source": []
  }
 ],
 "metadata": {
  "kernelspec": {
   "display_name": "Python 3 (ipykernel)",
   "language": "python",
   "name": "python3"
  },
  "language_info": {
   "codemirror_mode": {
    "name": "ipython",
    "version": 3
   },
   "file_extension": ".py",
   "mimetype": "text/x-python",
   "name": "python",
   "nbconvert_exporter": "python",
   "pygments_lexer": "ipython3",
   "version": "3.10.7"
  }
 },
 "nbformat": 4,
 "nbformat_minor": 5
}
